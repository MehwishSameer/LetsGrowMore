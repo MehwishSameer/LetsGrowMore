{
  "nbformat": 4,
  "nbformat_minor": 0,
  "metadata": {
    "colab": {
      "name": "Stock Market Prediction And Forecasting Using Stacked LSTM.ipynb",
      "provenance": [],
      "authorship_tag": "ABX9TyMTugqSzyZGl+22mu0GvJ5M",
      "include_colab_link": true
    },
    "kernelspec": {
      "name": "python3",
      "display_name": "Python 3"
    },
    "language_info": {
      "name": "python"
    }
  },
  "cells": [
    {
      "cell_type": "markdown",
      "metadata": {
        "id": "view-in-github",
        "colab_type": "text"
      },
      "source": [
        "<a href=\"https://colab.research.google.com/github/MehwishSameer/LetsGrowMore/blob/main/Stock_Market_Prediction_And_Forecasting_Using_Stacked_LSTM.ipynb\" target=\"_parent\"><img src=\"https://colab.research.google.com/assets/colab-badge.svg\" alt=\"Open In Colab\"/></a>"
      ]
    },
    {
      "cell_type": "markdown",
      "source": [
        "The approach used here will only work on the dataset with the same size as the dataset used here.\n",
        "If you want to use it on any other dataset then you need to changes values and step accordingly."
      ],
      "metadata": {
        "id": "zCkSHlcDrPCP"
      }
    },
    {
      "cell_type": "markdown",
      "source": [
        "**1.   Collect the stock data**"
      ],
      "metadata": {
        "id": "SSz2GErMYqte"
      }
    },
    {
      "cell_type": "code",
      "execution_count": 66,
      "metadata": {
        "id": "usJXQQ2aNxRy"
      },
      "outputs": [],
      "source": [
        "import pandas_datareader as pdr\n",
        "import pandas as pd\n",
        "import matplotlib.pyplot as plt\n",
        "import numpy as np\n",
        "import tensorflow as tf\n",
        "import math\n",
        "from sklearn.metrics import mean_squared_error\n",
        "from sklearn.preprocessing import MinMaxScaler\n",
        "from tensorflow.keras.models import Sequential\n",
        "from tensorflow.keras.layers import Dense\n",
        "from tensorflow.keras.layers import LSTM"
      ]
    },
    {
      "cell_type": "markdown",
      "source": [
        "Stock data from 2010 to 2018"
      ],
      "metadata": {
        "id": "HBz20a2JuyD1"
      }
    },
    {
      "cell_type": "code",
      "source": [
        "df=pd.read_csv('https://raw.githubusercontent.com/mwitiderrick/stockprice/master/NSE-TATAGLOBAL.csv')"
      ],
      "metadata": {
        "id": "HNjEKMCKfYiN"
      },
      "execution_count": 67,
      "outputs": []
    },
    {
      "cell_type": "code",
      "source": [
        "df.head()"
      ],
      "metadata": {
        "colab": {
          "base_uri": "https://localhost:8080/",
          "height": 206
        },
        "id": "YoyxwsBohHZD",
        "outputId": "d48d67d4-ffcc-4577-e5d1-275cd3ad1219"
      },
      "execution_count": 68,
      "outputs": [
        {
          "output_type": "execute_result",
          "data": {
            "text/plain": [
              "         Date    Open    High     Low    Last   Close  Total Trade Quantity  \\\n",
              "0  2018-09-28  234.05  235.95  230.20  233.50  233.75               3069914   \n",
              "1  2018-09-27  234.55  236.80  231.10  233.80  233.25               5082859   \n",
              "2  2018-09-26  240.00  240.00  232.50  235.00  234.25               2240909   \n",
              "3  2018-09-25  233.30  236.75  232.00  236.25  236.10               2349368   \n",
              "4  2018-09-24  233.55  239.20  230.75  234.00  233.30               3423509   \n",
              "\n",
              "   Turnover (Lacs)  \n",
              "0          7162.35  \n",
              "1         11859.95  \n",
              "2          5248.60  \n",
              "3          5503.90  \n",
              "4          7999.55  "
            ],
            "text/html": [
              "\n",
              "  <div id=\"df-bc062ded-41dd-4e36-a4c8-8f9f6c48d864\">\n",
              "    <div class=\"colab-df-container\">\n",
              "      <div>\n",
              "<style scoped>\n",
              "    .dataframe tbody tr th:only-of-type {\n",
              "        vertical-align: middle;\n",
              "    }\n",
              "\n",
              "    .dataframe tbody tr th {\n",
              "        vertical-align: top;\n",
              "    }\n",
              "\n",
              "    .dataframe thead th {\n",
              "        text-align: right;\n",
              "    }\n",
              "</style>\n",
              "<table border=\"1\" class=\"dataframe\">\n",
              "  <thead>\n",
              "    <tr style=\"text-align: right;\">\n",
              "      <th></th>\n",
              "      <th>Date</th>\n",
              "      <th>Open</th>\n",
              "      <th>High</th>\n",
              "      <th>Low</th>\n",
              "      <th>Last</th>\n",
              "      <th>Close</th>\n",
              "      <th>Total Trade Quantity</th>\n",
              "      <th>Turnover (Lacs)</th>\n",
              "    </tr>\n",
              "  </thead>\n",
              "  <tbody>\n",
              "    <tr>\n",
              "      <th>0</th>\n",
              "      <td>2018-09-28</td>\n",
              "      <td>234.05</td>\n",
              "      <td>235.95</td>\n",
              "      <td>230.20</td>\n",
              "      <td>233.50</td>\n",
              "      <td>233.75</td>\n",
              "      <td>3069914</td>\n",
              "      <td>7162.35</td>\n",
              "    </tr>\n",
              "    <tr>\n",
              "      <th>1</th>\n",
              "      <td>2018-09-27</td>\n",
              "      <td>234.55</td>\n",
              "      <td>236.80</td>\n",
              "      <td>231.10</td>\n",
              "      <td>233.80</td>\n",
              "      <td>233.25</td>\n",
              "      <td>5082859</td>\n",
              "      <td>11859.95</td>\n",
              "    </tr>\n",
              "    <tr>\n",
              "      <th>2</th>\n",
              "      <td>2018-09-26</td>\n",
              "      <td>240.00</td>\n",
              "      <td>240.00</td>\n",
              "      <td>232.50</td>\n",
              "      <td>235.00</td>\n",
              "      <td>234.25</td>\n",
              "      <td>2240909</td>\n",
              "      <td>5248.60</td>\n",
              "    </tr>\n",
              "    <tr>\n",
              "      <th>3</th>\n",
              "      <td>2018-09-25</td>\n",
              "      <td>233.30</td>\n",
              "      <td>236.75</td>\n",
              "      <td>232.00</td>\n",
              "      <td>236.25</td>\n",
              "      <td>236.10</td>\n",
              "      <td>2349368</td>\n",
              "      <td>5503.90</td>\n",
              "    </tr>\n",
              "    <tr>\n",
              "      <th>4</th>\n",
              "      <td>2018-09-24</td>\n",
              "      <td>233.55</td>\n",
              "      <td>239.20</td>\n",
              "      <td>230.75</td>\n",
              "      <td>234.00</td>\n",
              "      <td>233.30</td>\n",
              "      <td>3423509</td>\n",
              "      <td>7999.55</td>\n",
              "    </tr>\n",
              "  </tbody>\n",
              "</table>\n",
              "</div>\n",
              "      <button class=\"colab-df-convert\" onclick=\"convertToInteractive('df-bc062ded-41dd-4e36-a4c8-8f9f6c48d864')\"\n",
              "              title=\"Convert this dataframe to an interactive table.\"\n",
              "              style=\"display:none;\">\n",
              "        \n",
              "  <svg xmlns=\"http://www.w3.org/2000/svg\" height=\"24px\"viewBox=\"0 0 24 24\"\n",
              "       width=\"24px\">\n",
              "    <path d=\"M0 0h24v24H0V0z\" fill=\"none\"/>\n",
              "    <path d=\"M18.56 5.44l.94 2.06.94-2.06 2.06-.94-2.06-.94-.94-2.06-.94 2.06-2.06.94zm-11 1L8.5 8.5l.94-2.06 2.06-.94-2.06-.94L8.5 2.5l-.94 2.06-2.06.94zm10 10l.94 2.06.94-2.06 2.06-.94-2.06-.94-.94-2.06-.94 2.06-2.06.94z\"/><path d=\"M17.41 7.96l-1.37-1.37c-.4-.4-.92-.59-1.43-.59-.52 0-1.04.2-1.43.59L10.3 9.45l-7.72 7.72c-.78.78-.78 2.05 0 2.83L4 21.41c.39.39.9.59 1.41.59.51 0 1.02-.2 1.41-.59l7.78-7.78 2.81-2.81c.8-.78.8-2.07 0-2.86zM5.41 20L4 18.59l7.72-7.72 1.47 1.35L5.41 20z\"/>\n",
              "  </svg>\n",
              "      </button>\n",
              "      \n",
              "  <style>\n",
              "    .colab-df-container {\n",
              "      display:flex;\n",
              "      flex-wrap:wrap;\n",
              "      gap: 12px;\n",
              "    }\n",
              "\n",
              "    .colab-df-convert {\n",
              "      background-color: #E8F0FE;\n",
              "      border: none;\n",
              "      border-radius: 50%;\n",
              "      cursor: pointer;\n",
              "      display: none;\n",
              "      fill: #1967D2;\n",
              "      height: 32px;\n",
              "      padding: 0 0 0 0;\n",
              "      width: 32px;\n",
              "    }\n",
              "\n",
              "    .colab-df-convert:hover {\n",
              "      background-color: #E2EBFA;\n",
              "      box-shadow: 0px 1px 2px rgba(60, 64, 67, 0.3), 0px 1px 3px 1px rgba(60, 64, 67, 0.15);\n",
              "      fill: #174EA6;\n",
              "    }\n",
              "\n",
              "    [theme=dark] .colab-df-convert {\n",
              "      background-color: #3B4455;\n",
              "      fill: #D2E3FC;\n",
              "    }\n",
              "\n",
              "    [theme=dark] .colab-df-convert:hover {\n",
              "      background-color: #434B5C;\n",
              "      box-shadow: 0px 1px 3px 1px rgba(0, 0, 0, 0.15);\n",
              "      filter: drop-shadow(0px 1px 2px rgba(0, 0, 0, 0.3));\n",
              "      fill: #FFFFFF;\n",
              "    }\n",
              "  </style>\n",
              "\n",
              "      <script>\n",
              "        const buttonEl =\n",
              "          document.querySelector('#df-bc062ded-41dd-4e36-a4c8-8f9f6c48d864 button.colab-df-convert');\n",
              "        buttonEl.style.display =\n",
              "          google.colab.kernel.accessAllowed ? 'block' : 'none';\n",
              "\n",
              "        async function convertToInteractive(key) {\n",
              "          const element = document.querySelector('#df-bc062ded-41dd-4e36-a4c8-8f9f6c48d864');\n",
              "          const dataTable =\n",
              "            await google.colab.kernel.invokeFunction('convertToInteractive',\n",
              "                                                     [key], {});\n",
              "          if (!dataTable) return;\n",
              "\n",
              "          const docLinkHtml = 'Like what you see? Visit the ' +\n",
              "            '<a target=\"_blank\" href=https://colab.research.google.com/notebooks/data_table.ipynb>data table notebook</a>'\n",
              "            + ' to learn more about interactive tables.';\n",
              "          element.innerHTML = '';\n",
              "          dataTable['output_type'] = 'display_data';\n",
              "          await google.colab.output.renderOutput(dataTable, element);\n",
              "          const docLink = document.createElement('div');\n",
              "          docLink.innerHTML = docLinkHtml;\n",
              "          element.appendChild(docLink);\n",
              "        }\n",
              "      </script>\n",
              "    </div>\n",
              "  </div>\n",
              "  "
            ]
          },
          "metadata": {},
          "execution_count": 68
        }
      ]
    },
    {
      "cell_type": "code",
      "source": [
        "df.tail()"
      ],
      "metadata": {
        "colab": {
          "base_uri": "https://localhost:8080/",
          "height": 206
        },
        "id": "3PFMsdhEpwPu",
        "outputId": "04e7fa6e-c96c-4a61-eb68-c99be1983b7b"
      },
      "execution_count": 88,
      "outputs": [
        {
          "output_type": "execute_result",
          "data": {
            "text/plain": [
              "            Date   Open    High     Low    Last   Close  Total Trade Quantity  \\\n",
              "2030  2010-07-27  117.6  119.50  112.00  118.80  118.65                586100   \n",
              "2031  2010-07-26  120.1  121.00  117.10  117.10  117.60                658440   \n",
              "2032  2010-07-23  121.8  121.95  120.25  120.35  120.65                281312   \n",
              "2033  2010-07-22  120.3  122.00  120.25  120.75  120.90                293312   \n",
              "2034  2010-07-21  122.1  123.00  121.05  121.10  121.55                658666   \n",
              "\n",
              "      Turnover (Lacs)  \n",
              "2030           694.98  \n",
              "2031           780.01  \n",
              "2032           340.31  \n",
              "2033           355.17  \n",
              "2034           803.56  "
            ],
            "text/html": [
              "\n",
              "  <div id=\"df-7a6ac6b3-f681-4bf9-b150-7fb213634302\">\n",
              "    <div class=\"colab-df-container\">\n",
              "      <div>\n",
              "<style scoped>\n",
              "    .dataframe tbody tr th:only-of-type {\n",
              "        vertical-align: middle;\n",
              "    }\n",
              "\n",
              "    .dataframe tbody tr th {\n",
              "        vertical-align: top;\n",
              "    }\n",
              "\n",
              "    .dataframe thead th {\n",
              "        text-align: right;\n",
              "    }\n",
              "</style>\n",
              "<table border=\"1\" class=\"dataframe\">\n",
              "  <thead>\n",
              "    <tr style=\"text-align: right;\">\n",
              "      <th></th>\n",
              "      <th>Date</th>\n",
              "      <th>Open</th>\n",
              "      <th>High</th>\n",
              "      <th>Low</th>\n",
              "      <th>Last</th>\n",
              "      <th>Close</th>\n",
              "      <th>Total Trade Quantity</th>\n",
              "      <th>Turnover (Lacs)</th>\n",
              "    </tr>\n",
              "  </thead>\n",
              "  <tbody>\n",
              "    <tr>\n",
              "      <th>2030</th>\n",
              "      <td>2010-07-27</td>\n",
              "      <td>117.6</td>\n",
              "      <td>119.50</td>\n",
              "      <td>112.00</td>\n",
              "      <td>118.80</td>\n",
              "      <td>118.65</td>\n",
              "      <td>586100</td>\n",
              "      <td>694.98</td>\n",
              "    </tr>\n",
              "    <tr>\n",
              "      <th>2031</th>\n",
              "      <td>2010-07-26</td>\n",
              "      <td>120.1</td>\n",
              "      <td>121.00</td>\n",
              "      <td>117.10</td>\n",
              "      <td>117.10</td>\n",
              "      <td>117.60</td>\n",
              "      <td>658440</td>\n",
              "      <td>780.01</td>\n",
              "    </tr>\n",
              "    <tr>\n",
              "      <th>2032</th>\n",
              "      <td>2010-07-23</td>\n",
              "      <td>121.8</td>\n",
              "      <td>121.95</td>\n",
              "      <td>120.25</td>\n",
              "      <td>120.35</td>\n",
              "      <td>120.65</td>\n",
              "      <td>281312</td>\n",
              "      <td>340.31</td>\n",
              "    </tr>\n",
              "    <tr>\n",
              "      <th>2033</th>\n",
              "      <td>2010-07-22</td>\n",
              "      <td>120.3</td>\n",
              "      <td>122.00</td>\n",
              "      <td>120.25</td>\n",
              "      <td>120.75</td>\n",
              "      <td>120.90</td>\n",
              "      <td>293312</td>\n",
              "      <td>355.17</td>\n",
              "    </tr>\n",
              "    <tr>\n",
              "      <th>2034</th>\n",
              "      <td>2010-07-21</td>\n",
              "      <td>122.1</td>\n",
              "      <td>123.00</td>\n",
              "      <td>121.05</td>\n",
              "      <td>121.10</td>\n",
              "      <td>121.55</td>\n",
              "      <td>658666</td>\n",
              "      <td>803.56</td>\n",
              "    </tr>\n",
              "  </tbody>\n",
              "</table>\n",
              "</div>\n",
              "      <button class=\"colab-df-convert\" onclick=\"convertToInteractive('df-7a6ac6b3-f681-4bf9-b150-7fb213634302')\"\n",
              "              title=\"Convert this dataframe to an interactive table.\"\n",
              "              style=\"display:none;\">\n",
              "        \n",
              "  <svg xmlns=\"http://www.w3.org/2000/svg\" height=\"24px\"viewBox=\"0 0 24 24\"\n",
              "       width=\"24px\">\n",
              "    <path d=\"M0 0h24v24H0V0z\" fill=\"none\"/>\n",
              "    <path d=\"M18.56 5.44l.94 2.06.94-2.06 2.06-.94-2.06-.94-.94-2.06-.94 2.06-2.06.94zm-11 1L8.5 8.5l.94-2.06 2.06-.94-2.06-.94L8.5 2.5l-.94 2.06-2.06.94zm10 10l.94 2.06.94-2.06 2.06-.94-2.06-.94-.94-2.06-.94 2.06-2.06.94z\"/><path d=\"M17.41 7.96l-1.37-1.37c-.4-.4-.92-.59-1.43-.59-.52 0-1.04.2-1.43.59L10.3 9.45l-7.72 7.72c-.78.78-.78 2.05 0 2.83L4 21.41c.39.39.9.59 1.41.59.51 0 1.02-.2 1.41-.59l7.78-7.78 2.81-2.81c.8-.78.8-2.07 0-2.86zM5.41 20L4 18.59l7.72-7.72 1.47 1.35L5.41 20z\"/>\n",
              "  </svg>\n",
              "      </button>\n",
              "      \n",
              "  <style>\n",
              "    .colab-df-container {\n",
              "      display:flex;\n",
              "      flex-wrap:wrap;\n",
              "      gap: 12px;\n",
              "    }\n",
              "\n",
              "    .colab-df-convert {\n",
              "      background-color: #E8F0FE;\n",
              "      border: none;\n",
              "      border-radius: 50%;\n",
              "      cursor: pointer;\n",
              "      display: none;\n",
              "      fill: #1967D2;\n",
              "      height: 32px;\n",
              "      padding: 0 0 0 0;\n",
              "      width: 32px;\n",
              "    }\n",
              "\n",
              "    .colab-df-convert:hover {\n",
              "      background-color: #E2EBFA;\n",
              "      box-shadow: 0px 1px 2px rgba(60, 64, 67, 0.3), 0px 1px 3px 1px rgba(60, 64, 67, 0.15);\n",
              "      fill: #174EA6;\n",
              "    }\n",
              "\n",
              "    [theme=dark] .colab-df-convert {\n",
              "      background-color: #3B4455;\n",
              "      fill: #D2E3FC;\n",
              "    }\n",
              "\n",
              "    [theme=dark] .colab-df-convert:hover {\n",
              "      background-color: #434B5C;\n",
              "      box-shadow: 0px 1px 3px 1px rgba(0, 0, 0, 0.15);\n",
              "      filter: drop-shadow(0px 1px 2px rgba(0, 0, 0, 0.3));\n",
              "      fill: #FFFFFF;\n",
              "    }\n",
              "  </style>\n",
              "\n",
              "      <script>\n",
              "        const buttonEl =\n",
              "          document.querySelector('#df-7a6ac6b3-f681-4bf9-b150-7fb213634302 button.colab-df-convert');\n",
              "        buttonEl.style.display =\n",
              "          google.colab.kernel.accessAllowed ? 'block' : 'none';\n",
              "\n",
              "        async function convertToInteractive(key) {\n",
              "          const element = document.querySelector('#df-7a6ac6b3-f681-4bf9-b150-7fb213634302');\n",
              "          const dataTable =\n",
              "            await google.colab.kernel.invokeFunction('convertToInteractive',\n",
              "                                                     [key], {});\n",
              "          if (!dataTable) return;\n",
              "\n",
              "          const docLinkHtml = 'Like what you see? Visit the ' +\n",
              "            '<a target=\"_blank\" href=https://colab.research.google.com/notebooks/data_table.ipynb>data table notebook</a>'\n",
              "            + ' to learn more about interactive tables.';\n",
              "          element.innerHTML = '';\n",
              "          dataTable['output_type'] = 'display_data';\n",
              "          await google.colab.output.renderOutput(dataTable, element);\n",
              "          const docLink = document.createElement('div');\n",
              "          docLink.innerHTML = docLinkHtml;\n",
              "          element.appendChild(docLink);\n",
              "        }\n",
              "      </script>\n",
              "    </div>\n",
              "  </div>\n",
              "  "
            ]
          },
          "metadata": {},
          "execution_count": 88
        }
      ]
    },
    {
      "cell_type": "code",
      "source": [
        "close= df.reset_index()['Close']\n",
        "plt.plot(close)"
      ],
      "metadata": {
        "colab": {
          "base_uri": "https://localhost:8080/",
          "height": 282
        },
        "id": "8BxDXIRakJ0t",
        "outputId": "7c94865c-7442-4be7-f40e-12b9402ae789"
      },
      "execution_count": 69,
      "outputs": [
        {
          "output_type": "execute_result",
          "data": {
            "text/plain": [
              "[<matplotlib.lines.Line2D at 0x7fc44a48d550>]"
            ]
          },
          "metadata": {},
          "execution_count": 69
        },
        {
          "output_type": "display_data",
          "data": {
            "text/plain": [
              "<Figure size 432x288 with 1 Axes>"
            ],
            "image/png": "[encoded data removed]"
          },
          "metadata": {
            "needs_background": "light"
          }
        }
      ]
    },
    {
      "cell_type": "code",
      "source": [
        "scaler=MinMaxScaler(feature_range=(0,1))\n",
        "close=scaler.fit_transform(np.array(close).reshape(-1,1))"
      ],
      "metadata": {
        "id": "3Ety4-ms5G-E"
      },
      "execution_count": 70,
      "outputs": []
    },
    {
      "cell_type": "markdown",
      "source": [
        "Time Series data should be divided according to date in order. Because each date result depends on previous date. Foreg: day1, day2, day3 |break| day4, day5\n",
        "\n",
        "This ordered data is divided not random days as each day result depends on the previous one.\n",
        "\n",
        "Timesteps=3\n",
        "Foreg: Data: (120,130,125,140,134,150)Train Data    \n",
        "\n",
        "(160,190,154,160,170)Test Data\n",
        "\n",
        "\n",
        "----X_Train---  Y_Train--------------------Y_Train val1  val2  val3  o/p(Y_test)\n",
        "                                            \n",
        "                                         \n",
        "val1  val2  val3  o/p------------------------------------160 190 154 160\n",
        "\n",
        "120 130 125 140-------------------------------------190 154 160 170\n",
        "\n",
        "130 125 140 134\n",
        "\n",
        "125 140 134 150\n",
        "\n",
        "In the table 1 y_train will be trained and then in table 2 Y_Train column will do predictions which will be compared with output(y_test) and it will show how good results was.\n"
      ],
      "metadata": {
        "id": "lSGld-XjqAnl"
      }
    },
    {
      "cell_type": "markdown",
      "source": [
        "**2.  Preprocess the data- train and test**"
      ],
      "metadata": {
        "id": "KbceNCjZrUpE"
      }
    },
    {
      "cell_type": "code",
      "source": [
        "train_size=int(len(close)*0.65)\n",
        "test_size=len(close)-train_size\n",
        "train_data,test_data=close[0:train_size,:],close[train_size:len(close),:1]"
      ],
      "metadata": {
        "id": "GF3rVb11dtk4"
      },
      "execution_count": 71,
      "outputs": []
    },
    {
      "cell_type": "code",
      "source": [
        "def create(data, n=1):\n",
        "\tX, Y = [], []\n",
        "\tfor i in range(len(data)-n-1):\n",
        "\t\tdf = data[i:(i+n), 0]  \n",
        "\t\tX.append(df)\n",
        "\t\tY.append(data[i + n, 0])\n",
        "\treturn np.array(X), np.array(Y)"
      ],
      "metadata": {
        "id": "OG99Ufe9Ghwn"
      },
      "execution_count": 72,
      "outputs": []
    },
    {
      "cell_type": "code",
      "source": [
        "time_step = 53\n",
        "X_train, y_train = create(train_data, time_step)\n",
        "X_test, ytest = create(test_data, time_step)"
      ],
      "metadata": {
        "id": "o0GJZY1wGljR"
      },
      "execution_count": 73,
      "outputs": []
    },
    {
      "cell_type": "code",
      "source": [
        "X_train =X_train.reshape(X_train.shape[0],X_train.shape[1] , 1)\n",
        "X_test = X_test.reshape(X_test.shape[0],X_test.shape[1] , 1) "
      ],
      "metadata": {
        "id": "RWo-DCzRIfJs"
      },
      "execution_count": 74,
      "outputs": []
    },
    {
      "cell_type": "markdown",
      "source": [
        "**3.  Create an stacked LSTM model**"
      ],
      "metadata": {
        "id": "tF67wXFnPFj0"
      }
    },
    {
      "cell_type": "code",
      "source": [
        "model=Sequential()\n",
        "model.add(LSTM(50,return_sequences=True,input_shape=(53,1)))\n",
        "model.add(LSTM(50,return_sequences=True))\n",
        "model.add(LSTM(50))\n",
        "model.add(Dense(1))\n",
        "model.compile(loss='mean_squared_error',optimizer='adam')"
      ],
      "metadata": {
        "id": "bAB9oB7ZKFs9"
      },
      "execution_count": 75,
      "outputs": []
    },
    {
      "cell_type": "code",
      "source": [
        "model.summary()"
      ],
      "metadata": {
        "colab": {
          "base_uri": "https://localhost:8080/"
        },
        "id": "h3wpXhQhKH6q",
        "outputId": "18942aa4-ace1-4a2a-ef53-996e342e1066"
      },
      "execution_count": 76,
      "outputs": [
        {
          "output_type": "stream",
          "name": "stdout",
          "text": [
            "Model: \"sequential_2\"\n",
            "_________________________________________________________________\n",
            " Layer (type)                Output Shape              Param #   \n",
            "=================================================================\n",
            " lstm_6 (LSTM)               (None, 53, 50)            10400     \n",
            "                                                                 \n",
            " lstm_7 (LSTM)               (None, 53, 50)            20200     \n",
            "                                                                 \n",
            " lstm_8 (LSTM)               (None, 50)                20200     \n",
            "                                                                 \n",
            " dense_2 (Dense)             (None, 1)                 51        \n",
            "                                                                 \n",
            "=================================================================\n",
            "Total params: 50,851\n",
            "Trainable params: 50,851\n",
            "Non-trainable params: 0\n",
            "_________________________________________________________________\n"
          ]
        }
      ]
    },
    {
      "cell_type": "code",
      "source": [
        "model.fit(X_train,y_train,validation_data=(X_test,ytest),epochs=53,batch_size=64,verbose=1)"
      ],
      "metadata": {
        "colab": {
          "base_uri": "https://localhost:8080/"
        },
        "id": "RH2kdlqlKRsw",
        "outputId": "409630a3-a4e0-4406-dad4-443437359c1d"
      },
      "execution_count": 77,
      "outputs": [
        {
          "output_type": "stream",
          "name": "stdout",
          "text": [
            "Epoch 1/53\n",
            "20/20 [==============================] - 10s 193ms/step - loss: 0.0449 - val_loss: 0.0031\n",
            "Epoch 2/53\n",
            "20/20 [==============================] - 2s 123ms/step - loss: 0.0048 - val_loss: 0.0014\n",
            "Epoch 3/53\n",
            "20/20 [==============================] - 2s 125ms/step - loss: 0.0022 - val_loss: 0.0013\n",
            "Epoch 4/53\n",
            "20/20 [==============================] - 3s 132ms/step - loss: 0.0019 - val_loss: 0.0011\n",
            "Epoch 5/53\n",
            "20/20 [==============================] - 3s 128ms/step - loss: 0.0018 - val_loss: 0.0013\n",
            "Epoch 6/53\n",
            "20/20 [==============================] - 3s 128ms/step - loss: 0.0016 - val_loss: 0.0010\n",
            "Epoch 7/53\n",
            "20/20 [==============================] - 3s 131ms/step - loss: 0.0015 - val_loss: 0.0011\n",
            "Epoch 8/53\n",
            "20/20 [==============================] - 3s 137ms/step - loss: 0.0015 - val_loss: 0.0011\n",
            "Epoch 9/53\n",
            "20/20 [==============================] - 4s 175ms/step - loss: 0.0014 - val_loss: 9.4311e-04\n",
            "Epoch 10/53\n",
            "20/20 [==============================] - 3s 128ms/step - loss: 0.0014 - val_loss: 9.9974e-04\n",
            "Epoch 11/53\n",
            "20/20 [==============================] - 2s 126ms/step - loss: 0.0013 - val_loss: 9.1515e-04\n",
            "Epoch 12/53\n",
            "20/20 [==============================] - 2s 125ms/step - loss: 0.0012 - val_loss: 7.9244e-04\n",
            "Epoch 13/53\n",
            "20/20 [==============================] - 2s 121ms/step - loss: 0.0012 - val_loss: 8.1040e-04\n",
            "Epoch 14/53\n",
            "20/20 [==============================] - 3s 127ms/step - loss: 0.0011 - val_loss: 7.2710e-04\n",
            "Epoch 15/53\n",
            "20/20 [==============================] - 3s 127ms/step - loss: 0.0012 - val_loss: 7.1919e-04\n",
            "Epoch 16/53\n",
            "20/20 [==============================] - 3s 126ms/step - loss: 0.0010 - val_loss: 6.4770e-04\n",
            "Epoch 17/53\n",
            "20/20 [==============================] - 3s 130ms/step - loss: 0.0010 - val_loss: 6.5736e-04\n",
            "Epoch 18/53\n",
            "20/20 [==============================] - 3s 126ms/step - loss: 9.9755e-04 - val_loss: 6.6497e-04\n",
            "Epoch 19/53\n",
            "20/20 [==============================] - 3s 130ms/step - loss: 0.0011 - val_loss: 8.8934e-04\n",
            "Epoch 20/53\n",
            "20/20 [==============================] - 3s 131ms/step - loss: 9.6077e-04 - val_loss: 7.9856e-04\n",
            "Epoch 21/53\n",
            "20/20 [==============================] - 2s 120ms/step - loss: 9.6165e-04 - val_loss: 7.4401e-04\n",
            "Epoch 22/53\n",
            "20/20 [==============================] - 3s 152ms/step - loss: 9.1998e-04 - val_loss: 6.0114e-04\n",
            "Epoch 23/53\n",
            "20/20 [==============================] - 4s 181ms/step - loss: 9.2146e-04 - val_loss: 6.3417e-04\n",
            "Epoch 24/53\n",
            "20/20 [==============================] - 3s 126ms/step - loss: 8.2160e-04 - val_loss: 6.0206e-04\n",
            "Epoch 25/53\n",
            "20/20 [==============================] - 3s 129ms/step - loss: 9.2829e-04 - val_loss: 7.9434e-04\n",
            "Epoch 26/53\n",
            "20/20 [==============================] - 3s 129ms/step - loss: 8.9840e-04 - val_loss: 6.3908e-04\n",
            "Epoch 27/53\n",
            "20/20 [==============================] - 3s 131ms/step - loss: 7.9626e-04 - val_loss: 5.9546e-04\n",
            "Epoch 28/53\n",
            "20/20 [==============================] - 2s 125ms/step - loss: 7.6351e-04 - val_loss: 5.7785e-04\n",
            "Epoch 29/53\n",
            "20/20 [==============================] - 3s 133ms/step - loss: 7.6205e-04 - val_loss: 5.6424e-04\n",
            "Epoch 30/53\n",
            "20/20 [==============================] - 3s 129ms/step - loss: 7.0376e-04 - val_loss: 7.1964e-04\n",
            "Epoch 31/53\n",
            "20/20 [==============================] - 3s 138ms/step - loss: 7.2697e-04 - val_loss: 6.3561e-04\n",
            "Epoch 32/53\n",
            "20/20 [==============================] - 2s 122ms/step - loss: 6.9194e-04 - val_loss: 5.6339e-04\n",
            "Epoch 33/53\n",
            "20/20 [==============================] - 3s 128ms/step - loss: 7.6905e-04 - val_loss: 6.8752e-04\n",
            "Epoch 34/53\n",
            "20/20 [==============================] - 3s 130ms/step - loss: 6.4987e-04 - val_loss: 5.3042e-04\n",
            "Epoch 35/53\n",
            "20/20 [==============================] - 3s 126ms/step - loss: 6.4117e-04 - val_loss: 5.1381e-04\n",
            "Epoch 36/53\n",
            "20/20 [==============================] - 2s 123ms/step - loss: 6.3675e-04 - val_loss: 4.8549e-04\n",
            "Epoch 37/53\n",
            "20/20 [==============================] - 2s 120ms/step - loss: 6.5099e-04 - val_loss: 4.6952e-04\n",
            "Epoch 38/53\n",
            "20/20 [==============================] - 3s 142ms/step - loss: 6.0599e-04 - val_loss: 4.8890e-04\n",
            "Epoch 39/53\n",
            "20/20 [==============================] - 3s 132ms/step - loss: 5.9361e-04 - val_loss: 6.3425e-04\n",
            "Epoch 40/53\n",
            "20/20 [==============================] - 2s 125ms/step - loss: 6.1766e-04 - val_loss: 5.0291e-04\n",
            "Epoch 41/53\n",
            "20/20 [==============================] - 3s 130ms/step - loss: 5.7122e-04 - val_loss: 4.5939e-04\n",
            "Epoch 42/53\n",
            "20/20 [==============================] - 3s 131ms/step - loss: 7.0427e-04 - val_loss: 4.3271e-04\n",
            "Epoch 43/53\n",
            "20/20 [==============================] - 2s 122ms/step - loss: 5.8405e-04 - val_loss: 4.7605e-04\n",
            "Epoch 44/53\n",
            "20/20 [==============================] - 3s 133ms/step - loss: 5.2144e-04 - val_loss: 5.1180e-04\n",
            "Epoch 45/53\n",
            "20/20 [==============================] - 3s 128ms/step - loss: 5.6848e-04 - val_loss: 4.1712e-04\n",
            "Epoch 46/53\n",
            "20/20 [==============================] - 3s 134ms/step - loss: 5.7811e-04 - val_loss: 5.0973e-04\n",
            "Epoch 47/53\n",
            "20/20 [==============================] - 2s 124ms/step - loss: 5.1145e-04 - val_loss: 4.8718e-04\n",
            "Epoch 48/53\n",
            "20/20 [==============================] - 2s 123ms/step - loss: 4.8901e-04 - val_loss: 4.4305e-04\n",
            "Epoch 49/53\n",
            "20/20 [==============================] - 2s 119ms/step - loss: 4.8442e-04 - val_loss: 3.5189e-04\n",
            "Epoch 50/53\n",
            "20/20 [==============================] - 2s 123ms/step - loss: 5.7658e-04 - val_loss: 3.7218e-04\n",
            "Epoch 51/53\n",
            "20/20 [==============================] - 3s 177ms/step - loss: 5.5803e-04 - val_loss: 3.5741e-04\n",
            "Epoch 52/53\n",
            "20/20 [==============================] - 2s 119ms/step - loss: 4.8913e-04 - val_loss: 3.3705e-04\n",
            "Epoch 53/53\n",
            "20/20 [==============================] - 2s 123ms/step - loss: 4.8099e-04 - val_loss: 3.3191e-04\n"
          ]
        },
        {
          "output_type": "execute_result",
          "data": {
            "text/plain": [
              "<keras.callbacks.History at 0x7fc44a286810>"
            ]
          },
          "metadata": {},
          "execution_count": 77
        }
      ]
    },
    {
      "cell_type": "code",
      "source": [
        "train_p=model.predict(X_train)\n",
        "test_p=model.predict(X_test)"
      ],
      "metadata": {
        "id": "MOaEQu5iPMnC"
      },
      "execution_count": 78,
      "outputs": []
    },
    {
      "cell_type": "code",
      "source": [
        "train_p=scaler.inverse_transform(train_p)\n",
        "test_p=scaler.inverse_transform(test_p)"
      ],
      "metadata": {
        "id": "nN_ay-XgPd55"
      },
      "execution_count": 79,
      "outputs": []
    },
    {
      "cell_type": "code",
      "source": [
        "math.sqrt(mean_squared_error(y_train,train_p))\n",
        "math.sqrt(mean_squared_error(ytest,test_p))"
      ],
      "metadata": {
        "colab": {
          "base_uri": "https://localhost:8080/"
        },
        "id": "3-UYQcxsPu8k",
        "outputId": "5ccc56bb-bdae-4757-949e-9f6e534af372"
      },
      "execution_count": 80,
      "outputs": [
        {
          "output_type": "execute_result",
          "data": {
            "text/plain": [
              "117.57138534838063"
            ]
          },
          "metadata": {},
          "execution_count": 80
        }
      ]
    },
    {
      "cell_type": "markdown",
      "source": [
        "**4.   Predict the test data and plot the output**"
      ],
      "metadata": {
        "id": "JORj_WySRCDH"
      }
    },
    {
      "cell_type": "code",
      "source": [
        "step=53\n",
        "train_Plot = np.empty_like(close)\n",
        "train_Plot[:, :] = np.nan\n",
        "train_Plot[step:len(train_p)+step, :] = train_p\n",
        "test_Plot = np.empty_like(close)\n",
        "test_Plot[:, :] = np.nan\n",
        "test_Plot[len(train_p)+(step*2)+1:len(close)-1, :] = test_p\n",
        "plt.plot(scaler.inverse_transform(close))\n",
        "plt.plot(train_Plot)\n",
        "plt.plot(test_Plot)\n",
        "plt.show()"
      ],
      "metadata": {
        "colab": {
          "base_uri": "https://localhost:8080/",
          "height": 265
        },
        "id": "5LtdBYVAQX0J",
        "outputId": "8f1e1a32-98d8-48b7-e507-74a3528deaff"
      },
      "execution_count": 81,
      "outputs": [
        {
          "output_type": "display_data",
          "data": {
            "text/plain": [
              "<Figure size 432x288 with 1 Axes>"
            ],
            "image/png": "[encoded data removed]"
          },
          "metadata": {
            "needs_background": "light"
          }
        }
      ]
    },
    {
      "cell_type": "markdown",
      "source": [
        "**5.   Predict the future 30 days and plot the output**"
      ],
      "metadata": {
        "id": "CrC6jNxyROwr"
      }
    },
    {
      "cell_type": "code",
      "source": [
        "x_input=test_data[660:].reshape(1,-1)\n",
        "x_input.shape"
      ],
      "metadata": {
        "colab": {
          "base_uri": "https://localhost:8080/"
        },
        "id": "O7oR4zgtFBpB",
        "outputId": "c5fe9bc3-ad9e-4503-a261-c6fea6a96cb0"
      },
      "execution_count": 82,
      "outputs": [
        {
          "output_type": "execute_result",
          "data": {
            "text/plain": [
              "(1, 53)"
            ]
          },
          "metadata": {},
          "execution_count": 82
        }
      ]
    },
    {
      "cell_type": "code",
      "source": [
        "temp_input=list(x_input)\n",
        "temp_input=temp_input[0].tolist()"
      ],
      "metadata": {
        "id": "nBidKxE0FrL6"
      },
      "execution_count": 83,
      "outputs": []
    },
    {
      "cell_type": "code",
      "source": [
        "output=[]\n",
        "n1=53\n",
        "i=0\n",
        "while(i<30):\n",
        "    \n",
        "    if(len(temp_input)>53):\n",
        "        #print(temp_input)\n",
        "        x_input=np.array(temp_input[1:])\n",
        "        print(\"{} day input {}\".format(i,x_input))\n",
        "        x_input=x_input.reshape(1,-1)\n",
        "        x_input = x_input.reshape((1, n1, 1))\n",
        "        #print(x_input)\n",
        "        yhat = model.predict(x_input, verbose=0)\n",
        "        print(\"{} day output {}\".format(i,yhat))\n",
        "        temp_input.extend(yhat[0].tolist())\n",
        "        temp_input=temp_input[1:]\n",
        "        #print(temp_input)\n",
        "        output.extend(yhat.tolist())\n",
        "        i=i+1\n",
        "    else:\n",
        "        x_input = x_input.reshape((1, n1,1))\n",
        "        yhat = model.predict(x_input, verbose=0)\n",
        "        print(yhat[0])\n",
        "        temp_input.extend(yhat[0].tolist())\n",
        "        print(len(temp_input))\n",
        "        output.extend(yhat.tolist())\n",
        "        i=i+1\n",
        "    \n",
        "\n",
        "print(output)"
      ],
      "metadata": {
        "colab": {
          "base_uri": "https://localhost:8080/"
        },
        "id": "3vUddNs0MgBG",
        "outputId": "9fcdec01-8d42-46c6-86e7-cf5018ffe81f"
      },
      "execution_count": 84,
      "outputs": [
        {
          "output_type": "stream",
          "name": "stdout",
          "text": [
            "[0.1556392]\n",
            "54\n",
            "1 day input [0.17381536 0.16033497 0.16564542 0.17116013 0.17422386 0.18035131\n",
            " 0.17401961 0.16278595 0.16973039 0.17810458 0.17034314 0.16830065\n",
            " 0.17279412 0.17544935 0.18382353 0.19138072 0.18913399 0.19097222\n",
            " 0.17238562 0.16830065 0.1693219  0.17177288 0.16156046 0.14971405\n",
            " 0.1503268  0.15196078 0.14726307 0.14501634 0.14603758 0.12479575\n",
            " 0.13112745 0.11397059 0.1190768  0.12377451 0.13562092 0.12908497\n",
            " 0.13459967 0.12806373 0.13031046 0.12724673 0.13521242 0.14522059\n",
            " 0.15257353 0.14848856 0.14338235 0.14562908 0.15236928 0.15400327\n",
            " 0.14971405 0.1621732  0.16319444 0.16584967 0.1556392 ]\n",
            "1 day output [[0.15717243]]\n",
            "2 day input [0.16033497 0.16564542 0.17116013 0.17422386 0.18035131 0.17401961\n",
            " 0.16278595 0.16973039 0.17810458 0.17034314 0.16830065 0.17279412\n",
            " 0.17544935 0.18382353 0.19138072 0.18913399 0.19097222 0.17238562\n",
            " 0.16830065 0.1693219  0.17177288 0.16156046 0.14971405 0.1503268\n",
            " 0.15196078 0.14726307 0.14501634 0.14603758 0.12479575 0.13112745\n",
            " 0.11397059 0.1190768  0.12377451 0.13562092 0.12908497 0.13459967\n",
            " 0.12806373 0.13031046 0.12724673 0.13521242 0.14522059 0.15257353\n",
            " 0.14848856 0.14338235 0.14562908 0.15236928 0.15400327 0.14971405\n",
            " 0.1621732  0.16319444 0.16584967 0.1556392  0.15717243]\n",
            "2 day output [[0.15766495]]\n",
            "3 day input [0.16564542 0.17116013 0.17422386 0.18035131 0.17401961 0.16278595\n",
            " 0.16973039 0.17810458 0.17034314 0.16830065 0.17279412 0.17544935\n",
            " 0.18382353 0.19138072 0.18913399 0.19097222 0.17238562 0.16830065\n",
            " 0.1693219  0.17177288 0.16156046 0.14971405 0.1503268  0.15196078\n",
            " 0.14726307 0.14501634 0.14603758 0.12479575 0.13112745 0.11397059\n",
            " 0.1190768  0.12377451 0.13562092 0.12908497 0.13459967 0.12806373\n",
            " 0.13031046 0.12724673 0.13521242 0.14522059 0.15257353 0.14848856\n",
            " 0.14338235 0.14562908 0.15236928 0.15400327 0.14971405 0.1621732\n",
            " 0.16319444 0.16584967 0.1556392  0.15717243 0.15766495]\n",
            "3 day output [[0.15745151]]\n",
            "4 day input [0.17116013 0.17422386 0.18035131 0.17401961 0.16278595 0.16973039\n",
            " 0.17810458 0.17034314 0.16830065 0.17279412 0.17544935 0.18382353\n",
            " 0.19138072 0.18913399 0.19097222 0.17238562 0.16830065 0.1693219\n",
            " 0.17177288 0.16156046 0.14971405 0.1503268  0.15196078 0.14726307\n",
            " 0.14501634 0.14603758 0.12479575 0.13112745 0.11397059 0.1190768\n",
            " 0.12377451 0.13562092 0.12908497 0.13459967 0.12806373 0.13031046\n",
            " 0.12724673 0.13521242 0.14522059 0.15257353 0.14848856 0.14338235\n",
            " 0.14562908 0.15236928 0.15400327 0.14971405 0.1621732  0.16319444\n",
            " 0.16584967 0.1556392  0.15717243 0.15766495 0.15745151]\n",
            "4 day output [[0.1568609]]\n",
            "5 day input [0.17422386 0.18035131 0.17401961 0.16278595 0.16973039 0.17810458\n",
            " 0.17034314 0.16830065 0.17279412 0.17544935 0.18382353 0.19138072\n",
            " 0.18913399 0.19097222 0.17238562 0.16830065 0.1693219  0.17177288\n",
            " 0.16156046 0.14971405 0.1503268  0.15196078 0.14726307 0.14501634\n",
            " 0.14603758 0.12479575 0.13112745 0.11397059 0.1190768  0.12377451\n",
            " 0.13562092 0.12908497 0.13459967 0.12806373 0.13031046 0.12724673\n",
            " 0.13521242 0.14522059 0.15257353 0.14848856 0.14338235 0.14562908\n",
            " 0.15236928 0.15400327 0.14971405 0.1621732  0.16319444 0.16584967\n",
            " 0.1556392  0.15717243 0.15766495 0.15745151 0.1568609 ]\n",
            "5 day output [[0.15611832]]\n",
            "6 day input [0.18035131 0.17401961 0.16278595 0.16973039 0.17810458 0.17034314\n",
            " 0.16830065 0.17279412 0.17544935 0.18382353 0.19138072 0.18913399\n",
            " 0.19097222 0.17238562 0.16830065 0.1693219  0.17177288 0.16156046\n",
            " 0.14971405 0.1503268  0.15196078 0.14726307 0.14501634 0.14603758\n",
            " 0.12479575 0.13112745 0.11397059 0.1190768  0.12377451 0.13562092\n",
            " 0.12908497 0.13459967 0.12806373 0.13031046 0.12724673 0.13521242\n",
            " 0.14522059 0.15257353 0.14848856 0.14338235 0.14562908 0.15236928\n",
            " 0.15400327 0.14971405 0.1621732  0.16319444 0.16584967 0.1556392\n",
            " 0.15717243 0.15766495 0.15745151 0.1568609  0.15611832]\n",
            "6 day output [[0.1553508]]\n",
            "7 day input [0.17401961 0.16278595 0.16973039 0.17810458 0.17034314 0.16830065\n",
            " 0.17279412 0.17544935 0.18382353 0.19138072 0.18913399 0.19097222\n",
            " 0.17238562 0.16830065 0.1693219  0.17177288 0.16156046 0.14971405\n",
            " 0.1503268  0.15196078 0.14726307 0.14501634 0.14603758 0.12479575\n",
            " 0.13112745 0.11397059 0.1190768  0.12377451 0.13562092 0.12908497\n",
            " 0.13459967 0.12806373 0.13031046 0.12724673 0.13521242 0.14522059\n",
            " 0.15257353 0.14848856 0.14338235 0.14562908 0.15236928 0.15400327\n",
            " 0.14971405 0.1621732  0.16319444 0.16584967 0.1556392  0.15717243\n",
            " 0.15766495 0.15745151 0.1568609  0.15611832 0.1553508 ]\n",
            "7 day output [[0.15462029]]\n",
            "8 day input [0.16278595 0.16973039 0.17810458 0.17034314 0.16830065 0.17279412\n",
            " 0.17544935 0.18382353 0.19138072 0.18913399 0.19097222 0.17238562\n",
            " 0.16830065 0.1693219  0.17177288 0.16156046 0.14971405 0.1503268\n",
            " 0.15196078 0.14726307 0.14501634 0.14603758 0.12479575 0.13112745\n",
            " 0.11397059 0.1190768  0.12377451 0.13562092 0.12908497 0.13459967\n",
            " 0.12806373 0.13031046 0.12724673 0.13521242 0.14522059 0.15257353\n",
            " 0.14848856 0.14338235 0.14562908 0.15236928 0.15400327 0.14971405\n",
            " 0.1621732  0.16319444 0.16584967 0.1556392  0.15717243 0.15766495\n",
            " 0.15745151 0.1568609  0.15611832 0.1553508  0.15462029]\n",
            "8 day output [[0.15395299]]\n",
            "9 day input [0.16973039 0.17810458 0.17034314 0.16830065 0.17279412 0.17544935\n",
            " 0.18382353 0.19138072 0.18913399 0.19097222 0.17238562 0.16830065\n",
            " 0.1693219  0.17177288 0.16156046 0.14971405 0.1503268  0.15196078\n",
            " 0.14726307 0.14501634 0.14603758 0.12479575 0.13112745 0.11397059\n",
            " 0.1190768  0.12377451 0.13562092 0.12908497 0.13459967 0.12806373\n",
            " 0.13031046 0.12724673 0.13521242 0.14522059 0.15257353 0.14848856\n",
            " 0.14338235 0.14562908 0.15236928 0.15400327 0.14971405 0.1621732\n",
            " 0.16319444 0.16584967 0.1556392  0.15717243 0.15766495 0.15745151\n",
            " 0.1568609  0.15611832 0.1553508  0.15462029 0.15395299]\n",
            "9 day output [[0.15335758]]\n",
            "10 day input [0.17810458 0.17034314 0.16830065 0.17279412 0.17544935 0.18382353\n",
            " 0.19138072 0.18913399 0.19097222 0.17238562 0.16830065 0.1693219\n",
            " 0.17177288 0.16156046 0.14971405 0.1503268  0.15196078 0.14726307\n",
            " 0.14501634 0.14603758 0.12479575 0.13112745 0.11397059 0.1190768\n",
            " 0.12377451 0.13562092 0.12908497 0.13459967 0.12806373 0.13031046\n",
            " 0.12724673 0.13521242 0.14522059 0.15257353 0.14848856 0.14338235\n",
            " 0.14562908 0.15236928 0.15400327 0.14971405 0.1621732  0.16319444\n",
            " 0.16584967 0.1556392  0.15717243 0.15766495 0.15745151 0.1568609\n",
            " 0.15611832 0.1553508  0.15462029 0.15395299 0.15335758]\n",
            "10 day output [[0.15283448]]\n",
            "11 day input [0.17034314 0.16830065 0.17279412 0.17544935 0.18382353 0.19138072\n",
            " 0.18913399 0.19097222 0.17238562 0.16830065 0.1693219  0.17177288\n",
            " 0.16156046 0.14971405 0.1503268  0.15196078 0.14726307 0.14501634\n",
            " 0.14603758 0.12479575 0.13112745 0.11397059 0.1190768  0.12377451\n",
            " 0.13562092 0.12908497 0.13459967 0.12806373 0.13031046 0.12724673\n",
            " 0.13521242 0.14522059 0.15257353 0.14848856 0.14338235 0.14562908\n",
            " 0.15236928 0.15400327 0.14971405 0.1621732  0.16319444 0.16584967\n",
            " 0.1556392  0.15717243 0.15766495 0.15745151 0.1568609  0.15611832\n",
            " 0.1553508  0.15462029 0.15395299 0.15335758 0.15283448]\n",
            "11 day output [[0.15238066]]\n",
            "12 day input [0.16830065 0.17279412 0.17544935 0.18382353 0.19138072 0.18913399\n",
            " 0.19097222 0.17238562 0.16830065 0.1693219  0.17177288 0.16156046\n",
            " 0.14971405 0.1503268  0.15196078 0.14726307 0.14501634 0.14603758\n",
            " 0.12479575 0.13112745 0.11397059 0.1190768  0.12377451 0.13562092\n",
            " 0.12908497 0.13459967 0.12806373 0.13031046 0.12724673 0.13521242\n",
            " 0.14522059 0.15257353 0.14848856 0.14338235 0.14562908 0.15236928\n",
            " 0.15400327 0.14971405 0.1621732  0.16319444 0.16584967 0.1556392\n",
            " 0.15717243 0.15766495 0.15745151 0.1568609  0.15611832 0.1553508\n",
            " 0.15462029 0.15395299 0.15335758 0.15283448 0.15238066]\n",
            "12 day output [[0.15199147]]\n",
            "13 day input [0.17279412 0.17544935 0.18382353 0.19138072 0.18913399 0.19097222\n",
            " 0.17238562 0.16830065 0.1693219  0.17177288 0.16156046 0.14971405\n",
            " 0.1503268  0.15196078 0.14726307 0.14501634 0.14603758 0.12479575\n",
            " 0.13112745 0.11397059 0.1190768  0.12377451 0.13562092 0.12908497\n",
            " 0.13459967 0.12806373 0.13031046 0.12724673 0.13521242 0.14522059\n",
            " 0.15257353 0.14848856 0.14338235 0.14562908 0.15236928 0.15400327\n",
            " 0.14971405 0.1621732  0.16319444 0.16584967 0.1556392  0.15717243\n",
            " 0.15766495 0.15745151 0.1568609  0.15611832 0.1553508  0.15462029\n",
            " 0.15395299 0.15335758 0.15283448 0.15238066 0.15199147]\n",
            "13 day output [[0.15166035]]\n",
            "14 day input [0.17544935 0.18382353 0.19138072 0.18913399 0.19097222 0.17238562\n",
            " 0.16830065 0.1693219  0.17177288 0.16156046 0.14971405 0.1503268\n",
            " 0.15196078 0.14726307 0.14501634 0.14603758 0.12479575 0.13112745\n",
            " 0.11397059 0.1190768  0.12377451 0.13562092 0.12908497 0.13459967\n",
            " 0.12806373 0.13031046 0.12724673 0.13521242 0.14522059 0.15257353\n",
            " 0.14848856 0.14338235 0.14562908 0.15236928 0.15400327 0.14971405\n",
            " 0.1621732  0.16319444 0.16584967 0.1556392  0.15717243 0.15766495\n",
            " 0.15745151 0.1568609  0.15611832 0.1553508  0.15462029 0.15395299\n",
            " 0.15335758 0.15283448 0.15238066 0.15199147 0.15166035]\n",
            "14 day output [[0.15137975]]\n",
            "15 day input [0.18382353 0.19138072 0.18913399 0.19097222 0.17238562 0.16830065\n",
            " 0.1693219  0.17177288 0.16156046 0.14971405 0.1503268  0.15196078\n",
            " 0.14726307 0.14501634 0.14603758 0.12479575 0.13112745 0.11397059\n",
            " 0.1190768  0.12377451 0.13562092 0.12908497 0.13459967 0.12806373\n",
            " 0.13031046 0.12724673 0.13521242 0.14522059 0.15257353 0.14848856\n",
            " 0.14338235 0.14562908 0.15236928 0.15400327 0.14971405 0.1621732\n",
            " 0.16319444 0.16584967 0.1556392  0.15717243 0.15766495 0.15745151\n",
            " 0.1568609  0.15611832 0.1553508  0.15462029 0.15395299 0.15335758\n",
            " 0.15283448 0.15238066 0.15199147 0.15166035 0.15137975]\n",
            "15 day output [[0.15114182]]\n",
            "16 day input [0.19138072 0.18913399 0.19097222 0.17238562 0.16830065 0.1693219\n",
            " 0.17177288 0.16156046 0.14971405 0.1503268  0.15196078 0.14726307\n",
            " 0.14501634 0.14603758 0.12479575 0.13112745 0.11397059 0.1190768\n",
            " 0.12377451 0.13562092 0.12908497 0.13459967 0.12806373 0.13031046\n",
            " 0.12724673 0.13521242 0.14522059 0.15257353 0.14848856 0.14338235\n",
            " 0.14562908 0.15236928 0.15400327 0.14971405 0.1621732  0.16319444\n",
            " 0.16584967 0.1556392  0.15717243 0.15766495 0.15745151 0.1568609\n",
            " 0.15611832 0.1553508  0.15462029 0.15395299 0.15335758 0.15283448\n",
            " 0.15238066 0.15199147 0.15166035 0.15137975 0.15114182]\n",
            "16 day output [[0.15093862]]\n",
            "17 day input [0.18913399 0.19097222 0.17238562 0.16830065 0.1693219  0.17177288\n",
            " 0.16156046 0.14971405 0.1503268  0.15196078 0.14726307 0.14501634\n",
            " 0.14603758 0.12479575 0.13112745 0.11397059 0.1190768  0.12377451\n",
            " 0.13562092 0.12908497 0.13459967 0.12806373 0.13031046 0.12724673\n",
            " 0.13521242 0.14522059 0.15257353 0.14848856 0.14338235 0.14562908\n",
            " 0.15236928 0.15400327 0.14971405 0.1621732  0.16319444 0.16584967\n",
            " 0.1556392  0.15717243 0.15766495 0.15745151 0.1568609  0.15611832\n",
            " 0.1553508  0.15462029 0.15395299 0.15335758 0.15283448 0.15238066\n",
            " 0.15199147 0.15166035 0.15137975 0.15114182 0.15093862]\n",
            "17 day output [[0.15076244]]\n",
            "18 day input [0.19097222 0.17238562 0.16830065 0.1693219  0.17177288 0.16156046\n",
            " 0.14971405 0.1503268  0.15196078 0.14726307 0.14501634 0.14603758\n",
            " 0.12479575 0.13112745 0.11397059 0.1190768  0.12377451 0.13562092\n",
            " 0.12908497 0.13459967 0.12806373 0.13031046 0.12724673 0.13521242\n",
            " 0.14522059 0.15257353 0.14848856 0.14338235 0.14562908 0.15236928\n",
            " 0.15400327 0.14971405 0.1621732  0.16319444 0.16584967 0.1556392\n",
            " 0.15717243 0.15766495 0.15745151 0.1568609  0.15611832 0.1553508\n",
            " 0.15462029 0.15395299 0.15335758 0.15283448 0.15238066 0.15199147\n",
            " 0.15166035 0.15137975 0.15114182 0.15093862 0.15076244]\n",
            "18 day output [[0.15060648]]\n",
            "19 day input [0.17238562 0.16830065 0.1693219  0.17177288 0.16156046 0.14971405\n",
            " 0.1503268  0.15196078 0.14726307 0.14501634 0.14603758 0.12479575\n",
            " 0.13112745 0.11397059 0.1190768  0.12377451 0.13562092 0.12908497\n",
            " 0.13459967 0.12806373 0.13031046 0.12724673 0.13521242 0.14522059\n",
            " 0.15257353 0.14848856 0.14338235 0.14562908 0.15236928 0.15400327\n",
            " 0.14971405 0.1621732  0.16319444 0.16584967 0.1556392  0.15717243\n",
            " 0.15766495 0.15745151 0.1568609  0.15611832 0.1553508  0.15462029\n",
            " 0.15395299 0.15335758 0.15283448 0.15238066 0.15199147 0.15166035\n",
            " 0.15137975 0.15114182 0.15093862 0.15076244 0.15060648]\n",
            "19 day output [[0.15046458]]\n",
            "20 day input [0.16830065 0.1693219  0.17177288 0.16156046 0.14971405 0.1503268\n",
            " 0.15196078 0.14726307 0.14501634 0.14603758 0.12479575 0.13112745\n",
            " 0.11397059 0.1190768  0.12377451 0.13562092 0.12908497 0.13459967\n",
            " 0.12806373 0.13031046 0.12724673 0.13521242 0.14522059 0.15257353\n",
            " 0.14848856 0.14338235 0.14562908 0.15236928 0.15400327 0.14971405\n",
            " 0.1621732  0.16319444 0.16584967 0.1556392  0.15717243 0.15766495\n",
            " 0.15745151 0.1568609  0.15611832 0.1553508  0.15462029 0.15395299\n",
            " 0.15335758 0.15283448 0.15238066 0.15199147 0.15166035 0.15137975\n",
            " 0.15114182 0.15093862 0.15076244 0.15060648 0.15046458]\n",
            "20 day output [[0.15033185]]\n",
            "21 day input [0.1693219  0.17177288 0.16156046 0.14971405 0.1503268  0.15196078\n",
            " 0.14726307 0.14501634 0.14603758 0.12479575 0.13112745 0.11397059\n",
            " 0.1190768  0.12377451 0.13562092 0.12908497 0.13459967 0.12806373\n",
            " 0.13031046 0.12724673 0.13521242 0.14522059 0.15257353 0.14848856\n",
            " 0.14338235 0.14562908 0.15236928 0.15400327 0.14971405 0.1621732\n",
            " 0.16319444 0.16584967 0.1556392  0.15717243 0.15766495 0.15745151\n",
            " 0.1568609  0.15611832 0.1553508  0.15462029 0.15395299 0.15335758\n",
            " 0.15283448 0.15238066 0.15199147 0.15166035 0.15137975 0.15114182\n",
            " 0.15093862 0.15076244 0.15060648 0.15046458 0.15033185]\n",
            "21 day output [[0.150204]]\n",
            "22 day input [0.17177288 0.16156046 0.14971405 0.1503268  0.15196078 0.14726307\n",
            " 0.14501634 0.14603758 0.12479575 0.13112745 0.11397059 0.1190768\n",
            " 0.12377451 0.13562092 0.12908497 0.13459967 0.12806373 0.13031046\n",
            " 0.12724673 0.13521242 0.14522059 0.15257353 0.14848856 0.14338235\n",
            " 0.14562908 0.15236928 0.15400327 0.14971405 0.1621732  0.16319444\n",
            " 0.16584967 0.1556392  0.15717243 0.15766495 0.15745151 0.1568609\n",
            " 0.15611832 0.1553508  0.15462029 0.15395299 0.15335758 0.15283448\n",
            " 0.15238066 0.15199147 0.15166035 0.15137975 0.15114182 0.15093862\n",
            " 0.15076244 0.15060648 0.15046458 0.15033185 0.150204  ]\n",
            "22 day output [[0.15007769]]\n",
            "23 day input [0.16156046 0.14971405 0.1503268  0.15196078 0.14726307 0.14501634\n",
            " 0.14603758 0.12479575 0.13112745 0.11397059 0.1190768  0.12377451\n",
            " 0.13562092 0.12908497 0.13459967 0.12806373 0.13031046 0.12724673\n",
            " 0.13521242 0.14522059 0.15257353 0.14848856 0.14338235 0.14562908\n",
            " 0.15236928 0.15400327 0.14971405 0.1621732  0.16319444 0.16584967\n",
            " 0.1556392  0.15717243 0.15766495 0.15745151 0.1568609  0.15611832\n",
            " 0.1553508  0.15462029 0.15395299 0.15335758 0.15283448 0.15238066\n",
            " 0.15199147 0.15166035 0.15137975 0.15114182 0.15093862 0.15076244\n",
            " 0.15060648 0.15046458 0.15033185 0.150204   0.15007769]\n",
            "23 day output [[0.14995074]]\n",
            "24 day input [0.14971405 0.1503268  0.15196078 0.14726307 0.14501634 0.14603758\n",
            " 0.12479575 0.13112745 0.11397059 0.1190768  0.12377451 0.13562092\n",
            " 0.12908497 0.13459967 0.12806373 0.13031046 0.12724673 0.13521242\n",
            " 0.14522059 0.15257353 0.14848856 0.14338235 0.14562908 0.15236928\n",
            " 0.15400327 0.14971405 0.1621732  0.16319444 0.16584967 0.1556392\n",
            " 0.15717243 0.15766495 0.15745151 0.1568609  0.15611832 0.1553508\n",
            " 0.15462029 0.15395299 0.15335758 0.15283448 0.15238066 0.15199147\n",
            " 0.15166035 0.15137975 0.15114182 0.15093862 0.15076244 0.15060648\n",
            " 0.15046458 0.15033185 0.150204   0.15007769 0.14995074]\n",
            "24 day output [[0.14982197]]\n",
            "25 day input [0.1503268  0.15196078 0.14726307 0.14501634 0.14603758 0.12479575\n",
            " 0.13112745 0.11397059 0.1190768  0.12377451 0.13562092 0.12908497\n",
            " 0.13459967 0.12806373 0.13031046 0.12724673 0.13521242 0.14522059\n",
            " 0.15257353 0.14848856 0.14338235 0.14562908 0.15236928 0.15400327\n",
            " 0.14971405 0.1621732  0.16319444 0.16584967 0.1556392  0.15717243\n",
            " 0.15766495 0.15745151 0.1568609  0.15611832 0.1553508  0.15462029\n",
            " 0.15395299 0.15335758 0.15283448 0.15238066 0.15199147 0.15166035\n",
            " 0.15137975 0.15114182 0.15093862 0.15076244 0.15060648 0.15046458\n",
            " 0.15033185 0.150204   0.15007769 0.14995074 0.14982197]\n",
            "25 day output [[0.14969063]]\n",
            "26 day input [0.15196078 0.14726307 0.14501634 0.14603758 0.12479575 0.13112745\n",
            " 0.11397059 0.1190768  0.12377451 0.13562092 0.12908497 0.13459967\n",
            " 0.12806373 0.13031046 0.12724673 0.13521242 0.14522059 0.15257353\n",
            " 0.14848856 0.14338235 0.14562908 0.15236928 0.15400327 0.14971405\n",
            " 0.1621732  0.16319444 0.16584967 0.1556392  0.15717243 0.15766495\n",
            " 0.15745151 0.1568609  0.15611832 0.1553508  0.15462029 0.15395299\n",
            " 0.15335758 0.15283448 0.15238066 0.15199147 0.15166035 0.15137975\n",
            " 0.15114182 0.15093862 0.15076244 0.15060648 0.15046458 0.15033185\n",
            " 0.150204   0.15007769 0.14995074 0.14982197 0.14969063]\n",
            "26 day output [[0.14955631]]\n",
            "27 day input [0.14726307 0.14501634 0.14603758 0.12479575 0.13112745 0.11397059\n",
            " 0.1190768  0.12377451 0.13562092 0.12908497 0.13459967 0.12806373\n",
            " 0.13031046 0.12724673 0.13521242 0.14522059 0.15257353 0.14848856\n",
            " 0.14338235 0.14562908 0.15236928 0.15400327 0.14971405 0.1621732\n",
            " 0.16319444 0.16584967 0.1556392  0.15717243 0.15766495 0.15745151\n",
            " 0.1568609  0.15611832 0.1553508  0.15462029 0.15395299 0.15335758\n",
            " 0.15283448 0.15238066 0.15199147 0.15166035 0.15137975 0.15114182\n",
            " 0.15093862 0.15076244 0.15060648 0.15046458 0.15033185 0.150204\n",
            " 0.15007769 0.14995074 0.14982197 0.14969063 0.14955631]\n",
            "27 day output [[0.1494192]]\n",
            "28 day input [0.14501634 0.14603758 0.12479575 0.13112745 0.11397059 0.1190768\n",
            " 0.12377451 0.13562092 0.12908497 0.13459967 0.12806373 0.13031046\n",
            " 0.12724673 0.13521242 0.14522059 0.15257353 0.14848856 0.14338235\n",
            " 0.14562908 0.15236928 0.15400327 0.14971405 0.1621732  0.16319444\n",
            " 0.16584967 0.1556392  0.15717243 0.15766495 0.15745151 0.1568609\n",
            " 0.15611832 0.1553508  0.15462029 0.15395299 0.15335758 0.15283448\n",
            " 0.15238066 0.15199147 0.15166035 0.15137975 0.15114182 0.15093862\n",
            " 0.15076244 0.15060648 0.15046458 0.15033185 0.150204   0.15007769\n",
            " 0.14995074 0.14982197 0.14969063 0.14955631 0.1494192 ]\n",
            "28 day output [[0.14927998]]\n",
            "29 day input [0.14603758 0.12479575 0.13112745 0.11397059 0.1190768  0.12377451\n",
            " 0.13562092 0.12908497 0.13459967 0.12806373 0.13031046 0.12724673\n",
            " 0.13521242 0.14522059 0.15257353 0.14848856 0.14338235 0.14562908\n",
            " 0.15236928 0.15400327 0.14971405 0.1621732  0.16319444 0.16584967\n",
            " 0.1556392  0.15717243 0.15766495 0.15745151 0.1568609  0.15611832\n",
            " 0.1553508  0.15462029 0.15395299 0.15335758 0.15283448 0.15238066\n",
            " 0.15199147 0.15166035 0.15137975 0.15114182 0.15093862 0.15076244\n",
            " 0.15060648 0.15046458 0.15033185 0.150204   0.15007769 0.14995074\n",
            " 0.14982197 0.14969063 0.14955631 0.1494192  0.14927998]\n",
            "29 day output [[0.1491393]]\n",
            "[[0.15563920140266418], [0.15717242658138275], [0.157664954662323], [0.15745151042938232], [0.15686090290546417], [0.15611831843852997], [0.15535080432891846], [0.15462028980255127], [0.15395298600196838], [0.1533575803041458], [0.1528344750404358], [0.15238066017627716], [0.15199147164821625], [0.15166035294532776], [0.1513797491788864], [0.15114182233810425], [0.15093861520290375], [0.1507624387741089], [0.15060648322105408], [0.15046457946300507], [0.15033185482025146], [0.15020400285720825], [0.150077685713768], [0.14995074272155762], [0.14982196688652039], [0.1496906280517578], [0.14955630898475647], [0.14941920340061188], [0.14927998185157776], [0.14913929998874664]]\n"
          ]
        }
      ]
    },
    {
      "cell_type": "code",
      "source": [
        "day_new=np.arange(1,54)\n",
        "day_pred=np.arange(54,84)"
      ],
      "metadata": {
        "id": "-65OyFxvmzNG"
      },
      "execution_count": 85,
      "outputs": []
    },
    {
      "cell_type": "code",
      "source": [
        "plt.plot(day_new,scaler.inverse_transform(close[1982:]))\n",
        "plt.plot(day_pred,scaler.inverse_transform(output))"
      ],
      "metadata": {
        "colab": {
          "base_uri": "https://localhost:8080/",
          "height": 282
        },
        "id": "_BDlCDOVpMo3",
        "outputId": "344451c7-fbbd-467e-de77-5597aa393470"
      },
      "execution_count": 89,
      "outputs": [
        {
          "output_type": "execute_result",
          "data": {
            "text/plain": [
              "[<matplotlib.lines.Line2D at 0x7fc446272c90>]"
            ]
          },
          "metadata": {},
          "execution_count": 89
        },
        {
          "output_type": "display_data",
          "data": {
            "text/plain": [
              "<Figure size 432x288 with 1 Axes>"
            ],
            "image/png": "[encoded data removed]"
          },
          "metadata": {
            "needs_background": "light"
          }
        }
      ]
    },
    {
      "cell_type": "code",
      "source": [
        "close_ex=close.tolist()\n",
        "close_ex.extend(output)\n",
        "plt.plot(close_ex[1984:])"
      ],
      "metadata": {
        "colab": {
          "base_uri": "https://localhost:8080/",
          "height": 282
        },
        "id": "kVQqyAXgqG0b",
        "outputId": "dc45741f-df69-4406-d47e-4b3f8bc638d3"
      },
      "execution_count": 90,
      "outputs": [
        {
          "output_type": "execute_result",
          "data": {
            "text/plain": [
              "[<matplotlib.lines.Line2D at 0x7fc44627cfd0>]"
            ]
          },
          "metadata": {},
          "execution_count": 90
        },
        {
          "output_type": "display_data",
          "data": {
            "text/plain": [
              "<Figure size 432x288 with 1 Axes>"
            ],
            "image/png": "[encoded data removed]"
          },
          "metadata": {
            "needs_background": "light"
          }
        }
      ]
    },
    {
      "cell_type": "code",
      "source": [
        "close_ex=scaler.inverse_transform(close_ex).tolist()\n",
        "plt.plot(close_ex)"
      ],
      "metadata": {
        "colab": {
          "base_uri": "https://localhost:8080/",
          "height": 282
        },
        "id": "l5oy8yjMqeYk",
        "outputId": "cfc1323b-65b7-4f55-98d0-42bc64f8ff56"
      },
      "execution_count": 92,
      "outputs": [
        {
          "output_type": "execute_result",
          "data": {
            "text/plain": [
              "[<matplotlib.lines.Line2D at 0x7fc44367e0d0>]"
            ]
          },
          "metadata": {},
          "execution_count": 92
        },
        {
          "output_type": "display_data",
          "data": {
            "text/plain": [
              "<Figure size 432x288 with 1 Axes>"
            ],
            "image/png": "[encoded data removed]"
          },
          "metadata": {
            "needs_background": "light"
          }
        }
      ]
    }
  ]
}